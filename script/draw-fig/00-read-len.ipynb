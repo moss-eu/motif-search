{
 "cells": [
  {
   "cell_type": "code",
   "execution_count": 1,
   "metadata": {},
   "outputs": [],
   "source": [
    "import sys\n",
    "import pandas as pd\n",
    "import matplotlib.pyplot as plt\n",
    "import numpy as np\n",
    "\n",
    "# font = 14\n",
    "# plt.rcParams.update({'font.size': 14})"
   ]
  },
  {
   "cell_type": "markdown",
   "metadata": {},
   "source": [
    "## bonito SSP"
   ]
  },
  {
   "cell_type": "code",
   "execution_count": 2,
   "metadata": {},
   "outputs": [],
   "source": [
    "path = '/Users/yan/Desktop/eurecom_code/data/motif/error-rate/bonito-ssp/'\n",
    "sam_path = path + '200707_SSP_formatted-mapped-mn.sam'\n",
    "read_path = path + '200707_SSP_formatted.fasta'"
   ]
  },
  {
   "cell_type": "code",
   "execution_count": 3,
   "metadata": {},
   "outputs": [
    {
     "name": "stdout",
     "output_type": "stream",
     "text": [
      "nb of reads:102222\n",
      "longest of read length:10960\n",
      "median read length:25.0\n",
      "select nb of reads within max len 200: 101077\n"
     ]
    }
   ],
   "source": [
    "read = []\n",
    "read_id = ''\n",
    "with open(read_path) as file_in:\n",
    "    for line in file_in:\n",
    "        if line.startswith('>'):\n",
    "            read_id = line.strip()\n",
    "        else:\n",
    "            read.append([read_id, line.strip()])\n",
    "\n",
    "read = pd.DataFrame(read)\n",
    "read = read.rename(columns={0: \"read_id\", 1: \"read_seq\"})\n",
    "read['read_id'] = read['read_id'].str[1:] \n",
    "read['read_id'] = read['read_id'].str.split(' ').str[0]\n",
    "read['len'] = read['read_seq'].str.len()\n",
    "\n",
    "print('nb of reads:' + str(len(read)))\n",
    "print('longest of read length:' + str(read['len'].max()))\n",
    "print('median read length:' + str(read['len'].median()))\n",
    "\n",
    "read_draw_ssp = read[read['len']<200].copy()\n",
    "print('select nb of reads within max len 200: ' + str(len(read_draw_ssp)))"
   ]
  },
  {
   "cell_type": "code",
   "execution_count": 4,
   "metadata": {},
   "outputs": [
    {
     "name": "stdout",
     "output_type": "stream",
     "text": [
      "199.0\n",
      "4535.0\n"
     ]
    },
    {
     "data": {
      "image/png": "[encoded data removed]",
      "text/plain": [
       "<matplotlib.figure.Figure at 0x10f9e82e8>"
      ]
     },
     "metadata": {},
     "output_type": "display_data"
    }
   ],
   "source": [
    "y, x, _ = plt.hist(read_draw_ssp['len'], bins=300)\n",
    "\n",
    "print(x.max())\n",
    "print(y.max())\n",
    "\n",
    "ymin, ymax = y.min(), y.max()\n",
    "plt.ylim(ymin, 1.2 * ymax)\n",
    "\n",
    "plt.title('Histogram of read length')\n",
    "plt.xlabel('Length of reads/nt')\n",
    "plt.ylabel('Number of reads')\n",
    "plt.savefig(path + '/his-len.pdf')"
   ]
  },
  {
   "cell_type": "markdown",
   "metadata": {},
   "source": [
    "## bonito"
   ]
  },
  {
   "cell_type": "code",
   "execution_count": 5,
   "metadata": {},
   "outputs": [],
   "source": [
    "path = '/Users/yan/Desktop/eurecom_code/data/motif/error-rate/bonito/'\n",
    "sam_path = path + '200707_ori_bonito_formatted-mapped-mn.sam'\n",
    "read_path = path + '200707_ori_bonito_formatted.fasta'"
   ]
  },
  {
   "cell_type": "code",
   "execution_count": 6,
   "metadata": {},
   "outputs": [
    {
     "name": "stdout",
     "output_type": "stream",
     "text": [
      "nb of reads:27198\n",
      "longest of read length:3384\n",
      "median read length:110.0\n",
      "select nb of reads within max len 300: 26676\n"
     ]
    }
   ],
   "source": [
    "read = []\n",
    "read_id = ''\n",
    "with open(read_path) as file_in:\n",
    "    for line in file_in:\n",
    "        if line.startswith('>'):\n",
    "            read_id = line.strip()\n",
    "        else:\n",
    "            read.append([read_id, line.strip()])\n",
    "\n",
    "read = pd.DataFrame(read)\n",
    "read = read.rename(columns={0: \"read_id\", 1: \"read_seq\"})\n",
    "read['read_id'] = read['read_id'].str[1:] \n",
    "read['read_id'] = read['read_id'].str.split(' ').str[0]\n",
    "read['len'] = read['read_seq'].str.len()\n",
    "\n",
    "print('nb of reads:' + str(len(read)))\n",
    "print('longest of read length:' + str(read['len'].max()))\n",
    "print('median read length:' + str(read['len'].median()))\n",
    "\n",
    "read_draw_bonito = read[read['len']<300].copy()\n",
    "print('select nb of reads within max len 300: ' + str(len(read_draw_bonito)))"
   ]
  },
  {
   "cell_type": "code",
   "execution_count": 7,
   "metadata": {},
   "outputs": [
    {
     "name": "stdout",
     "output_type": "stream",
     "text": [
      "299.0\n",
      "715.0\n"
     ]
    },
    {
     "data": {
      "image/png": "[encoded data removed]",
      "text/plain": [
       "<matplotlib.figure.Figure at 0x1117e34a8>"
      ]
     },
     "metadata": {},
     "output_type": "display_data"
    }
   ],
   "source": [
    "y, x, _ = plt.hist(read_draw_bonito['len'], bins=100)\n",
    "\n",
    "print(x.max())\n",
    "print(y.max())\n",
    "\n",
    "ymin, ymax = y.min(), y.max()\n",
    "plt.ylim(ymin, 1.2 * ymax)\n",
    "\n",
    "plt.title('Histogram of read length')\n",
    "plt.xlabel('Length of reads/nt')\n",
    "plt.ylabel('Number of reads')\n",
    "plt.savefig(path + '/his-len.pdf')"
   ]
  },
  {
   "cell_type": "markdown",
   "metadata": {},
   "source": [
    "## guppy"
   ]
  },
  {
   "cell_type": "code",
   "execution_count": 8,
   "metadata": {},
   "outputs": [],
   "source": [
    "path = '/Users/yan/Desktop/eurecom_code/data/motif/error-rate/guppy/'\n",
    "sam_path = path + 'guppy-mapped-mn.sam'\n",
    "read_path = path + '200707_ori_guppy.fasta'"
   ]
  },
  {
   "cell_type": "code",
   "execution_count": 9,
   "metadata": {},
   "outputs": [
    {
     "name": "stdout",
     "output_type": "stream",
     "text": [
      "nb of reads:27198\n",
      "longest of read length:11450\n",
      "median read length:166.0\n",
      "select nb of reads within max len 500: 26900\n"
     ]
    }
   ],
   "source": [
    "read = []\n",
    "read_id = ''\n",
    "with open(read_path) as file_in:\n",
    "    for line in file_in:\n",
    "        if line.startswith('>'):\n",
    "            read_id = line.strip()\n",
    "        else:\n",
    "            read.append([read_id, line.strip()])\n",
    "\n",
    "read = pd.DataFrame(read)\n",
    "read = read.rename(columns={0: \"read_id\", 1: \"read_seq\"})\n",
    "read['read_id'] = read['read_id'].str[1:] \n",
    "read['read_id'] = read['read_id'].str.split(' ').str[0]\n",
    "read['len'] = read['read_seq'].str.len()\n",
    "\n",
    "print('nb of reads:' + str(len(read)))\n",
    "print('longest of read length:' + str(read['len'].max()))  \n",
    "print('median read length:' + str(read['len'].median()))\n",
    "\n",
    "read_draw_guppy = read[read['len']<500].copy()\n",
    "print('select nb of reads within max len 500: ' + str(len(read_draw_guppy)))"
   ]
  },
  {
   "cell_type": "code",
   "execution_count": 10,
   "metadata": {},
   "outputs": [
    {
     "name": "stdout",
     "output_type": "stream",
     "text": [
      "499.0\n",
      "502.0\n"
     ]
    },
    {
     "data": {
      "image/png": "[encoded data removed]",
      "text/plain": [
       "<matplotlib.figure.Figure at 0x1118133c8>"
      ]
     },
     "metadata": {},
     "output_type": "display_data"
    }
   ],
   "source": [
    "plt.clf()\n",
    "y, x, _ = plt.hist(read_draw_guppy['len'], bins=300)\n",
    "\n",
    "print(x.max())\n",
    "print(y.max())\n",
    "\n",
    "# ymin, ymax = y.min(), y.max()\n",
    "# plt.ylim(ymin, 1.2 * ymax)\n",
    "\n",
    "plt.title('Histogram of read length')\n",
    "plt.xlabel('Length of reads/nt')\n",
    "plt.ylabel('Number of reads')\n",
    "plt.savefig(path + '/his-len.pdf')"
   ]
  },
  {
   "cell_type": "code",
   "execution_count": 13,
   "metadata": {},
   "outputs": [
    {
     "data": {
      "image/png": "[encoded data removed]",
      "text/plain": [
       "<matplotlib.figure.Figure at 0x11d2a23c8>"
      ]
     },
     "metadata": {},
     "output_type": "display_data"
    }
   ],
   "source": [
    "import matplotlib.pyplot as plt\n",
    "import numpy as np\n",
    "\n",
    "\n",
    "# plot:\n",
    "fig, axs = plt.subplots(1, 3)\n",
    "fig.set_size_inches(12, 3)\n",
    "\n",
    "y_guppy, x_guppy, _ = axs[0].hist(read_draw_guppy['len'], bins=500)\n",
    "y_bonito, x_bonito, _ = axs[1].hist(read_draw_bonito['len'], bins=300)\n",
    "y_ssp, x_ssp, _ = axs[2].hist(read_draw_ssp['len'], bins=200)\n",
    "\n",
    "axs[0].set(ylim=(y_guppy.min(), y_guppy.max()*1.2))\n",
    "axs[1].set(ylim=(y_bonito.min(), y_bonito.max()*1.2))\n",
    "axs[2].set(ylim=(y_ssp.min(), y_ssp.max()*1.2))\n",
    "\n",
    "axs[0].set_xlabel('Length of reads (nt)')\n",
    "axs[1].set_xlabel('Length of reads (nt)')\n",
    "axs[2].set_xlabel('Length of reads (nt)')\n",
    "\n",
    "axs[0].set_ylabel('Number of reads')\n",
    "axs[0].set_title('a')\n",
    "axs[1].set_title('b')\n",
    "axs[2].set_title('c')\n",
    "\n",
    "plt.subplots_adjust(top=0.85)\n",
    "plt.savefig('/Users/yan/Desktop/eurecom_code/data/motif/his-len.pdf',bbox_inches='tight')"
   ]
  },
  {
   "cell_type": "code",
   "execution_count": null,
   "metadata": {},
   "outputs": [],
   "source": []
  }
 ],
 "metadata": {
  "kernelspec": {
   "display_name": "Python 3",
   "language": "python",
   "name": "python3"
  },
  "language_info": {
   "codemirror_mode": {
    "name": "ipython",
    "version": 3
   },
   "file_extension": ".py",
   "mimetype": "text/x-python",
   "name": "python",
   "nbconvert_exporter": "python",
   "pygments_lexer": "ipython3",
   "version": "3.6.4"
  }
 },
 "nbformat": 4,
 "nbformat_minor": 2
}
