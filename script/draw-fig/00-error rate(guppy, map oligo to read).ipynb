{
 "cells": [
  {
   "cell_type": "markdown",
   "metadata": {},
   "source": [
    "# Align oligo to read (minimap2, ont, kmer6)"
   ]
  },
  {
   "cell_type": "code",
   "execution_count": 1,
   "metadata": {},
   "outputs": [],
   "source": [
    "import sys\n",
    "import pandas as pd\n",
    "import matplotlib.pyplot as plt\n",
    "import matplotlib.ticker as mticker\n",
    "\n",
    "import numpy as np\n",
    "\n",
    "font = 14\n",
    "plt.rcParams.update({'font.size': 14})"
   ]
  },
  {
   "cell_type": "code",
   "execution_count": 2,
   "metadata": {},
   "outputs": [
    {
     "data": {
      "text/plain": [
       "'TACAGGACTACAGGGGACCGGAAACTACAACGCAGATTACAACCTCAGTTTTCCGGTCCCCTGTAGTCCTGTAA'"
      ]
     },
     "execution_count": 2,
     "metadata": {},
     "output_type": "execute_result"
    }
   ],
   "source": [
    "ref_path = '/Users/yan/Desktop/eurecom_code/data/motif/error-rate/ref-seq-8-32.fa'\n",
    "\n",
    "ref = []\n",
    "with open(ref_path) as file_in:\n",
    "    for line in file_in:\n",
    "        if line.startswith('>'):\n",
    "            continue\n",
    "        else:\n",
    "            ref.append(line.strip())\n",
    "\n",
    "ref[0]"
   ]
  },
  {
   "cell_type": "code",
   "execution_count": 3,
   "metadata": {},
   "outputs": [],
   "source": [
    "def check_cigar_flatten(s):\n",
    "    #ref_id is 1-index, pos is 1-index of the ref\n",
    "    _cigar = s['cigar']\n",
    "    _ref_id = s['ref_id']\n",
    "    _ref_seq = ref[_ref_id - 1]\n",
    "    _read_seq = s['read_seq']\n",
    "    ref_pos = s['pos'] - 1\n",
    "    read_pos = 0\n",
    "\n",
    "    cigar_num = []\n",
    "    cigar_char = []\n",
    "    num = 0\n",
    "\n",
    "    for i in _cigar:\n",
    "        if i.isdigit():\n",
    "            num = num*10 + int(i)\n",
    "        else:\n",
    "            cigar_num.append(num)\n",
    "            cigar_char.append(i)\n",
    "            num = 0\n",
    "    \n",
    "    res = ''\n",
    "    for i in range(len(cigar_char)):\n",
    "        if cigar_char[i] == 'M':\n",
    "            for j in range(cigar_num[i]):\n",
    "                if _read_seq[read_pos] == _ref_seq[ref_pos]:\n",
    "                    res += 'M'\n",
    "                else:\n",
    "                    res += 'X'\n",
    "                read_pos += 1\n",
    "                ref_pos += 1\n",
    "        else:\n",
    "            res += (cigar_char[i] * cigar_num[i])\n",
    "            if cigar_char[i] == 'I':\n",
    "                read_pos += cigar_num[i]\n",
    "            elif cigar_char[i] == 'D':\n",
    "                ref_pos += cigar_num[i]\n",
    "            else: #clip\n",
    "                read_pos += cigar_num[i]\n",
    "    return res"
   ]
  },
  {
   "cell_type": "code",
   "execution_count": 4,
   "metadata": {},
   "outputs": [],
   "source": [
    "path = '/Users/yan/Desktop/eurecom_code/data/motif/error-rate/guppy/'\n",
    "sam_path = path + 'minimap2-8-32-cov100-final.sam'\n",
    "read_path = path + 'guppy-mapped-cov100.string'\n",
    "\n",
    "# path = '/Users/yan/Desktop/eurecom_code/data/motif/error-rate/bonito-ssp/'\n",
    "# sam_path = path + '200707_SSP_formatted-mapped-mn.sam'\n",
    "# read_path = path + '200707_SSP_formatted.fasta'\n",
    "\n",
    "# path = '/Users/yan/Desktop/eurecom_code/data/motif/error-rate/bonito/'\n",
    "# sam_path = path + '200707_ori_bonito_formatted-mapped-mn.sam'\n",
    "# read_path = path + '200707_ori_bonito_formatted.fasta'\n",
    "\n",
    "# path = '/Users/yan/Desktop/eurecom_code/data/motif/error-rate/guppy/'\n",
    "# sam_path = path + 'guppy-mapped-mn.sam'\n",
    "# read_path = path + '200707_ori_guppy.fasta'"
   ]
  },
  {
   "cell_type": "code",
   "execution_count": 5,
   "metadata": {},
   "outputs": [
    {
     "data": {
      "text/html": [
       "<div>\n",
       "<style scoped>\n",
       "    .dataframe tbody tr th:only-of-type {\n",
       "        vertical-align: middle;\n",
       "    }\n",
       "\n",
       "    .dataframe tbody tr th {\n",
       "        vertical-align: top;\n",
       "    }\n",
       "\n",
       "    .dataframe thead th {\n",
       "        text-align: right;\n",
       "    }\n",
       "</style>\n",
       "<table border=\"1\" class=\"dataframe\">\n",
       "  <thead>\n",
       "    <tr style=\"text-align: right;\">\n",
       "      <th></th>\n",
       "      <th>read_id</th>\n",
       "      <th>read_seq</th>\n",
       "    </tr>\n",
       "  </thead>\n",
       "  <tbody>\n",
       "    <tr>\n",
       "      <th>0</th>\n",
       "      <td>1</td>\n",
       "      <td>TGTACTTCGTTCAGTTACGTATTGCTCATGGGAGTGGAAACGAAAC...</td>\n",
       "    </tr>\n",
       "    <tr>\n",
       "      <th>1</th>\n",
       "      <td>2</td>\n",
       "      <td>TTGCCTTCGTTCGGTTACGTATTGCTTACAGGACTACAGGGGACCG...</td>\n",
       "    </tr>\n",
       "    <tr>\n",
       "      <th>2</th>\n",
       "      <td>3</td>\n",
       "      <td>CTGTACTTCAGATTGCCTTGTTGTACTTCGTTCCAGTTACGTATTA...</td>\n",
       "    </tr>\n",
       "    <tr>\n",
       "      <th>3</th>\n",
       "      <td>4</td>\n",
       "      <td>CGATATTACTTCGTTCAGTTACGTATTGCTAAGCATCCCATGGTAA...</td>\n",
       "    </tr>\n",
       "    <tr>\n",
       "      <th>4</th>\n",
       "      <td>5</td>\n",
       "      <td>ATTGTACTTCGTTCAGTTTATCAGACATACTTCCGTTCAGTTTTGT...</td>\n",
       "    </tr>\n",
       "    <tr>\n",
       "      <th>5</th>\n",
       "      <td>6</td>\n",
       "      <td>CACCTGGTGATTCGGTTGCGGCTCATTGTAACAAGCATCCGTGTAG...</td>\n",
       "    </tr>\n",
       "    <tr>\n",
       "      <th>6</th>\n",
       "      <td>7</td>\n",
       "      <td>GTTGTACTTCGTTCAGTTACGTATTGCTACGACGGGGGTAAACATT...</td>\n",
       "    </tr>\n",
       "    <tr>\n",
       "      <th>7</th>\n",
       "      <td>8</td>\n",
       "      <td>ATTACTTCGTTCAGCATTGTGCTTCGTTCAGTTACGTATTGCTATC...</td>\n",
       "    </tr>\n",
       "    <tr>\n",
       "      <th>8</th>\n",
       "      <td>9</td>\n",
       "      <td>TGTACTTCGTTCAGAAAAATTTCAACGTACTTCGTTCAATTTAAGC...</td>\n",
       "    </tr>\n",
       "    <tr>\n",
       "      <th>9</th>\n",
       "      <td>10</td>\n",
       "      <td>AATTGTACTTCGTTCAGTTACGTATTGCTTCGGGAATCATCTTCAT...</td>\n",
       "    </tr>\n",
       "  </tbody>\n",
       "</table>\n",
       "</div>"
      ],
      "text/plain": [
       "  read_id                                           read_seq\n",
       "0       1  TGTACTTCGTTCAGTTACGTATTGCTCATGGGAGTGGAAACGAAAC...\n",
       "1       2  TTGCCTTCGTTCGGTTACGTATTGCTTACAGGACTACAGGGGACCG...\n",
       "2       3  CTGTACTTCAGATTGCCTTGTTGTACTTCGTTCCAGTTACGTATTA...\n",
       "3       4  CGATATTACTTCGTTCAGTTACGTATTGCTAAGCATCCCATGGTAA...\n",
       "4       5  ATTGTACTTCGTTCAGTTTATCAGACATACTTCCGTTCAGTTTTGT...\n",
       "5       6  CACCTGGTGATTCGGTTGCGGCTCATTGTAACAAGCATCCGTGTAG...\n",
       "6       7  GTTGTACTTCGTTCAGTTACGTATTGCTACGACGGGGGTAAACATT...\n",
       "7       8  ATTACTTCGTTCAGCATTGTGCTTCGTTCAGTTACGTATTGCTATC...\n",
       "8       9  TGTACTTCGTTCAGAAAAATTTCAACGTACTTCGTTCAATTTAAGC...\n",
       "9      10  AATTGTACTTCGTTCAGTTACGTATTGCTTCGGGAATCATCTTCAT..."
      ]
     },
     "execution_count": 5,
     "metadata": {},
     "output_type": "execute_result"
    }
   ],
   "source": [
    "## Load the reads '.fasta'\n",
    "read = []\n",
    "cnt = 1\n",
    "with open(read_path) as file_in:\n",
    "    for line in file_in:\n",
    "        read.append([str(cnt), line.strip()])\n",
    "        cnt += 1\n",
    "\n",
    "read = pd.DataFrame(read)\n",
    "read = read.rename(columns={0: \"read_id\", 1: \"read_seq\"})\n",
    "read.head(10)"
   ]
  },
  {
   "cell_type": "code",
   "execution_count": 6,
   "metadata": {},
   "outputs": [
    {
     "data": {
      "text/html": [
       "<div>\n",
       "<style scoped>\n",
       "    .dataframe tbody tr th:only-of-type {\n",
       "        vertical-align: middle;\n",
       "    }\n",
       "\n",
       "    .dataframe tbody tr th {\n",
       "        vertical-align: top;\n",
       "    }\n",
       "\n",
       "    .dataframe thead th {\n",
       "        text-align: right;\n",
       "    }\n",
       "</style>\n",
       "<table border=\"1\" class=\"dataframe\">\n",
       "  <thead>\n",
       "    <tr style=\"text-align: right;\">\n",
       "      <th></th>\n",
       "      <th>read_id</th>\n",
       "      <th>pos</th>\n",
       "      <th>oligo</th>\n",
       "      <th>score</th>\n",
       "      <th>FLAG</th>\n",
       "      <th>oligo_id</th>\n",
       "      <th>MAPQ</th>\n",
       "      <th>CIGAR</th>\n",
       "      <th>NM</th>\n",
       "      <th>read_seq</th>\n",
       "      <th>len</th>\n",
       "    </tr>\n",
       "  </thead>\n",
       "  <tbody>\n",
       "    <tr>\n",
       "      <th>0</th>\n",
       "      <td>1</td>\n",
       "      <td>193</td>\n",
       "      <td>&gt;5PMotif_7MoSS5-&gt;3PMotif_30MoSS5</td>\n",
       "      <td>116</td>\n",
       "      <td>0</td>\n",
       "      <td>222</td>\n",
       "      <td>20</td>\n",
       "      <td>64M10S</td>\n",
       "      <td>NM:i:2</td>\n",
       "      <td>TGTACTTCGTTCAGTTACGTATTGCTCATGGGAGTGGAAACGAAAC...</td>\n",
       "      <td>290</td>\n",
       "    </tr>\n",
       "    <tr>\n",
       "      <th>1</th>\n",
       "      <td>2</td>\n",
       "      <td>27</td>\n",
       "      <td>&gt;5PMotif_1MoSS5-&gt;3PMotif_31MoSS5</td>\n",
       "      <td>104</td>\n",
       "      <td>0</td>\n",
       "      <td>31</td>\n",
       "      <td>10</td>\n",
       "      <td>55M19S</td>\n",
       "      <td>NM:i:1</td>\n",
       "      <td>TTGCCTTCGTTCGGTTACGTATTGCTTACAGGACTACAGGGGACCG...</td>\n",
       "      <td>175</td>\n",
       "    </tr>\n",
       "    <tr>\n",
       "      <th>2</th>\n",
       "      <td>2</td>\n",
       "      <td>116</td>\n",
       "      <td>&gt;5PMotif_7MoSS5-&gt;3PMotif_7MoSS5</td>\n",
       "      <td>116</td>\n",
       "      <td>0</td>\n",
       "      <td>199</td>\n",
       "      <td>21</td>\n",
       "      <td>58M16S</td>\n",
       "      <td>NM:i:0</td>\n",
       "      <td>TTGCCTTCGTTCGGTTACGTATTGCTTACAGGACTACAGGGGACCG...</td>\n",
       "      <td>175</td>\n",
       "    </tr>\n",
       "    <tr>\n",
       "      <th>3</th>\n",
       "      <td>3</td>\n",
       "      <td>187</td>\n",
       "      <td>&gt;5PMotif_2MoSS5-&gt;3PMotif_13MoSS5</td>\n",
       "      <td>124</td>\n",
       "      <td>0</td>\n",
       "      <td>45</td>\n",
       "      <td>19</td>\n",
       "      <td>21M1I47M5S</td>\n",
       "      <td>NM:i:2</td>\n",
       "      <td>CTGTACTTCAGATTGCCTTGTTGTACTTCGTTCCAGTTACGTATTA...</td>\n",
       "      <td>340</td>\n",
       "    </tr>\n",
       "    <tr>\n",
       "      <th>4</th>\n",
       "      <td>4</td>\n",
       "      <td>31</td>\n",
       "      <td>&gt;5PMotif_5MoSS5-&gt;3PMotif_11MoSS5</td>\n",
       "      <td>112</td>\n",
       "      <td>0</td>\n",
       "      <td>139</td>\n",
       "      <td>21</td>\n",
       "      <td>25M2D35M14S</td>\n",
       "      <td>NM:i:2</td>\n",
       "      <td>CGATATTACTTCGTTCAGTTACGTATTGCTAAGCATCCCATGGTAA...</td>\n",
       "      <td>307</td>\n",
       "    </tr>\n",
       "    <tr>\n",
       "      <th>5</th>\n",
       "      <td>4</td>\n",
       "      <td>125</td>\n",
       "      <td>&gt;5PMotif_8MoSS5-&gt;3PMotif_11MoSS5</td>\n",
       "      <td>120</td>\n",
       "      <td>0</td>\n",
       "      <td>235</td>\n",
       "      <td>52</td>\n",
       "      <td>60M14S</td>\n",
       "      <td>NM:i:0</td>\n",
       "      <td>CGATATTACTTCGTTCAGTTACGTATTGCTAAGCATCCCATGGTAA...</td>\n",
       "      <td>307</td>\n",
       "    </tr>\n",
       "    <tr>\n",
       "      <th>6</th>\n",
       "      <td>4</td>\n",
       "      <td>245</td>\n",
       "      <td>&gt;5PMotif_8MoSS5-&gt;3PMotif_3MoSS5</td>\n",
       "      <td>122</td>\n",
       "      <td>0</td>\n",
       "      <td>227</td>\n",
       "      <td>53</td>\n",
       "      <td>61M13S</td>\n",
       "      <td>NM:i:0</td>\n",
       "      <td>CGATATTACTTCGTTCAGTTACGTATTGCTAAGCATCCCATGGTAA...</td>\n",
       "      <td>307</td>\n",
       "    </tr>\n",
       "    <tr>\n",
       "      <th>7</th>\n",
       "      <td>5</td>\n",
       "      <td>54</td>\n",
       "      <td>&gt;5PMotif_4MoSS5-&gt;3PMotif_14MoSS5</td>\n",
       "      <td>118</td>\n",
       "      <td>0</td>\n",
       "      <td>110</td>\n",
       "      <td>12</td>\n",
       "      <td>62M12S</td>\n",
       "      <td>NM:i:1</td>\n",
       "      <td>ATTGTACTTCGTTCAGTTTATCAGACATACTTCCGTTCAGTTTTGT...</td>\n",
       "      <td>115</td>\n",
       "    </tr>\n",
       "    <tr>\n",
       "      <th>8</th>\n",
       "      <td>6</td>\n",
       "      <td>135</td>\n",
       "      <td>&gt;5PMotif_7MoSS5-&gt;3PMotif_6MoSS5</td>\n",
       "      <td>112</td>\n",
       "      <td>0</td>\n",
       "      <td>198</td>\n",
       "      <td>10</td>\n",
       "      <td>35M1I27M11S</td>\n",
       "      <td>NM:i:2</td>\n",
       "      <td>CACCTGGTGATTCGGTTGCGGCTCATTGTAACAAGCATCCGTGTAG...</td>\n",
       "      <td>196</td>\n",
       "    </tr>\n",
       "    <tr>\n",
       "      <th>9</th>\n",
       "      <td>7</td>\n",
       "      <td>29</td>\n",
       "      <td>&gt;5PMotif_2MoSS5-&gt;3PMotif_17MoSS5</td>\n",
       "      <td>112</td>\n",
       "      <td>0</td>\n",
       "      <td>49</td>\n",
       "      <td>12</td>\n",
       "      <td>1S59M14S</td>\n",
       "      <td>NM:i:1</td>\n",
       "      <td>GTTGTACTTCGTTCAGTTACGTATTGCTACGACGGGGGTAAACATT...</td>\n",
       "      <td>186</td>\n",
       "    </tr>\n",
       "  </tbody>\n",
       "</table>\n",
       "</div>"
      ],
      "text/plain": [
       "  read_id  pos                             oligo  score  FLAG  oligo_id  MAPQ  \\\n",
       "0       1  193  >5PMotif_7MoSS5->3PMotif_30MoSS5    116     0       222    20   \n",
       "1       2   27  >5PMotif_1MoSS5->3PMotif_31MoSS5    104     0        31    10   \n",
       "2       2  116   >5PMotif_7MoSS5->3PMotif_7MoSS5    116     0       199    21   \n",
       "3       3  187  >5PMotif_2MoSS5->3PMotif_13MoSS5    124     0        45    19   \n",
       "4       4   31  >5PMotif_5MoSS5->3PMotif_11MoSS5    112     0       139    21   \n",
       "5       4  125  >5PMotif_8MoSS5->3PMotif_11MoSS5    120     0       235    52   \n",
       "6       4  245   >5PMotif_8MoSS5->3PMotif_3MoSS5    122     0       227    53   \n",
       "7       5   54  >5PMotif_4MoSS5->3PMotif_14MoSS5    118     0       110    12   \n",
       "8       6  135   >5PMotif_7MoSS5->3PMotif_6MoSS5    112     0       198    10   \n",
       "9       7   29  >5PMotif_2MoSS5->3PMotif_17MoSS5    112     0        49    12   \n",
       "\n",
       "         CIGAR      NM                                           read_seq  len  \n",
       "0       64M10S  NM:i:2  TGTACTTCGTTCAGTTACGTATTGCTCATGGGAGTGGAAACGAAAC...  290  \n",
       "1       55M19S  NM:i:1  TTGCCTTCGTTCGGTTACGTATTGCTTACAGGACTACAGGGGACCG...  175  \n",
       "2       58M16S  NM:i:0  TTGCCTTCGTTCGGTTACGTATTGCTTACAGGACTACAGGGGACCG...  175  \n",
       "3   21M1I47M5S  NM:i:2  CTGTACTTCAGATTGCCTTGTTGTACTTCGTTCCAGTTACGTATTA...  340  \n",
       "4  25M2D35M14S  NM:i:2  CGATATTACTTCGTTCAGTTACGTATTGCTAAGCATCCCATGGTAA...  307  \n",
       "5       60M14S  NM:i:0  CGATATTACTTCGTTCAGTTACGTATTGCTAAGCATCCCATGGTAA...  307  \n",
       "6       61M13S  NM:i:0  CGATATTACTTCGTTCAGTTACGTATTGCTAAGCATCCCATGGTAA...  307  \n",
       "7       62M12S  NM:i:1  ATTGTACTTCGTTCAGTTTATCAGACATACTTCCGTTCAGTTTTGT...  115  \n",
       "8  35M1I27M11S  NM:i:2  CACCTGGTGATTCGGTTGCGGCTCATTGTAACAAGCATCCGTGTAG...  196  \n",
       "9     1S59M14S  NM:i:1  GTTGTACTTCGTTCAGTTACGTATTGCTACGACGGGGGTAAACATT...  186  "
      ]
     },
     "execution_count": 6,
     "metadata": {},
     "output_type": "execute_result"
    }
   ],
   "source": [
    "## Load the sam file '.sam'\n",
    "sam = pd.read_csv(sam_path)\n",
    "sam['read_id'] = sam['read_id'].astype(str)\n",
    "sam = pd.merge(sam, read, how='left', left_on=['read_id'], right_on=['read_id'])\n",
    "sam['len'] = sam['read_seq'].str.len()\n",
    "sam.head(10)"
   ]
  },
  {
   "cell_type": "code",
   "execution_count": 7,
   "metadata": {},
   "outputs": [
    {
     "name": "stdout",
     "output_type": "stream",
     "text": [
      "the median coverage is 24.0\n",
      "the mean coverage is 30.046875\n",
      "nb. of aligned reads: 6576\n",
      "nb. of aligned reads with good read length (>50bp): 6576\n"
     ]
    }
   ],
   "source": [
    "ref_cnt = sam['oligo_id'].value_counts().rename_axis('unique_values').reset_index(name='counts')\n",
    "print(\"the median coverage is \" + str(ref_cnt['counts'].median()))\n",
    "print(\"the mean coverage is \" + str(ref_cnt['counts'].mean()))\n",
    "sam = sam.groupby('read_id').head(1).reset_index(drop=True)\n",
    "print('nb. of aligned reads: ' + str(len(sam)))\n",
    "sam = sam[sam['len']>50]\n",
    "print('nb. of aligned reads with good read length (>50bp): ' + str(len(sam)))"
   ]
  },
  {
   "cell_type": "markdown",
   "metadata": {},
   "source": [
    "new logic, map to ref and pos by pos\n",
    "- M/X\n",
    "- insertion : 23M10I30M ->  one insertion at pos 23\n",
    "- deletion:  23M10D -> 10 deletion from pos 23 to 33\n",
    "- softclipping: \n",
    "-- insertion (mode 1)\n",
    "-- softclipping (mode 2)\n",
    "-- not track (mode 3)\n",
    "- not align from ref pos 0:\n",
    "-- deletion (mode 1, 3)\n",
    "-- softclipping (mode 2)\n",
    "- length is shorter than ref, but cigar not track \n",
    "-- deletion (mode 1, 3)\n",
    "-- softclipping (mode 2)"
   ]
  },
  {
   "cell_type": "code",
   "execution_count": 46,
   "metadata": {},
   "outputs": [
    {
     "data": {
      "text/plain": [
       "'AGGGTTAACATAAGTGCACACGGTCTACAACGCAGATTACAACCTCAGTTAACTTCGGAATGTACACTTTGGCG'"
      ]
     },
     "execution_count": 46,
     "metadata": {},
     "output_type": "execute_result"
    }
   ],
   "source": [
    "ref[221]"
   ]
  },
  {
   "cell_type": "code",
   "execution_count": 35,
   "metadata": {},
   "outputs": [],
   "source": [
    "# mode = 3\n",
    "# def check_cigar_on_ref(s):\n",
    "#     cigar = s['CIGAR']\n",
    "#     ref_start = s['pos']\n",
    "#     read_seq = s['read_seq']\n",
    "#     ref_id = s['oligo_id']\n",
    "#     ref_seq = ref[ref_id - 1]\n",
    "    \n",
    "#     ref_pos = ref_start - 1\n",
    "#     read_pos = 0\n",
    "\n",
    "#     cigar_num = []\n",
    "#     cigar_char = []\n",
    "#     num = 0\n",
    "\n",
    "#     for i in cigar:\n",
    "#         if i.isdigit():\n",
    "#             num = num * 10 + int(i)\n",
    "#         else:\n",
    "#             cigar_num.append(num)\n",
    "#             cigar_char.append(i)\n",
    "#             num = 0\n",
    "\n",
    "#     res = ''\n",
    "#     valid_len = 0\n",
    "\n",
    "#     # if not align from beginning --> deletion\n",
    "#     if ref_pos != 0:\n",
    "#         valid_len += ref_pos\n",
    "#         if ( (mode == 1) or (mode == 3)):\n",
    "#             res += ('D' * ref_pos)\n",
    "#         elif (mode == 2):\n",
    "#             res += ('S' * ref_pos)\n",
    "\n",
    "\n",
    "#     for i in range(len(cigar_char)):\n",
    "#         if cigar_char[i] == 'S':\n",
    "#             if (mode == 1):\n",
    "#                 res += 'I'\n",
    "#             elif (mode == 2):\n",
    "#                 res += 'S'\n",
    "#             read_pos += cigar_num[i]\n",
    "#         elif cigar_char[i] == 'M':\n",
    "#             valid_len += cigar_num[i]\n",
    "#             for j in range(cigar_num[i]):\n",
    "#                 if read_seq[read_pos] == ref_seq[ref_pos]:\n",
    "#                     res += 'M'\n",
    "#                 else:\n",
    "#                     res += 'X'\n",
    "#                 read_pos += 1\n",
    "#                 ref_pos += 1\n",
    "#         elif cigar_char[i] == 'I':\n",
    "#             res += 'I'\n",
    "#             read_pos += cigar_num[i]\n",
    "#         elif cigar_char[i] == 'D':\n",
    "#             valid_len += cigar_num[i]\n",
    "#             res += (cigar_char[i] * cigar_num[i])\n",
    "#             ref_pos += cigar_num[i]\n",
    "\n",
    "#     if valid_len < 74:\n",
    "#         if ((mode == 1) or (mode == 3)):\n",
    "#             res += ('D' * (74 - valid_len))\n",
    "#         elif (mode == 2):\n",
    "#             res += ('S' * (74 - valid_len))\n",
    "#         ref_pos += cigar_num[i]\n",
    "\n",
    "#     return res"
   ]
  },
  {
   "cell_type": "code",
   "execution_count": 8,
   "metadata": {},
   "outputs": [],
   "source": [
    "mode = 3\n",
    "def check_cigar_on_ref(s):\n",
    "#     print(s)\n",
    "    cigar = s['CIGAR']\n",
    "    read_start = s['pos']\n",
    "    read_seq = s['read_seq']\n",
    "    ref_id = s['oligo_id']\n",
    "    ref_seq = ref[ref_id - 1]\n",
    "\n",
    "    read_pos = read_start - 1\n",
    "    ref_pos = 0\n",
    "\n",
    "    cigar_num = []\n",
    "    cigar_char = []\n",
    "    num = 0\n",
    "\n",
    "    for i in cigar:\n",
    "        if i.isdigit():\n",
    "            num = num * 10 + int(i)\n",
    "        else:\n",
    "            cigar_num.append(num)\n",
    "            cigar_char.append(i)\n",
    "            num = 0\n",
    "\n",
    "    res = ''\n",
    "    for i in range(len(cigar_char)):\n",
    "        if cigar_char[i] == 'S':\n",
    "            res += ('S' * cigar_num[i])\n",
    "            ref_pos += cigar_num[i]\n",
    "        elif cigar_char[i] == 'M':\n",
    "            for j in range(cigar_num[i]):\n",
    "                if read_seq[read_pos] == ref_seq[ref_pos]:\n",
    "                    res += 'M'\n",
    "                else:\n",
    "                    res += 'X'\n",
    "                read_pos += 1\n",
    "                ref_pos += 1\n",
    "        elif cigar_char[i] == 'I':\n",
    "            res += ('D' * cigar_num[i])\n",
    "            ref_pos += cigar_num[i]\n",
    "        elif cigar_char[i] == 'D':\n",
    "            res += 'I'\n",
    "            read_pos += cigar_num[i]\n",
    "\n",
    "    return res"
   ]
  },
  {
   "cell_type": "code",
   "execution_count": 9,
   "metadata": {},
   "outputs": [
    {
     "data": {
      "text/plain": [
       "80"
      ]
     },
     "execution_count": 9,
     "metadata": {},
     "output_type": "execute_result"
    }
   ],
   "source": [
    "# sam['flatten'] = sam.apply(check_cigar_flatten, axis=1)\n",
    "sam['flatten'] = sam.apply(check_cigar_on_ref, axis=1)\n",
    "sam['len'] = sam['flatten'].str.len()\n",
    "max_len = sam['len'].max()\n",
    "max_len"
   ]
  },
  {
   "cell_type": "code",
   "execution_count": 10,
   "metadata": {},
   "outputs": [
    {
     "data": {
      "text/plain": [
       "'MMMMMMMMMMXMMMMMMMMMMMMMMMMMMMMMMMMMMMMMMXMMMMMMMMMMMMMMMMMMMMMMSSSSSSSSSS'"
      ]
     },
     "execution_count": 10,
     "metadata": {},
     "output_type": "execute_result"
    }
   ],
   "source": [
    "flattened = sam['flatten'].tolist()\n",
    "flattened[0]"
   ]
  },
  {
   "cell_type": "code",
   "execution_count": 11,
   "metadata": {},
   "outputs": [],
   "source": [
    "max_len = 76\n",
    "mis_rate = []\n",
    "i_rate = []\n",
    "d_rate = []\n",
    "other_rate = []\n",
    "\n",
    "for i in range(max_len):\n",
    "    nb_m = 0\n",
    "    nb_mis = 0\n",
    "    nb_i = 0\n",
    "    nb_d = 0\n",
    "    nb_o = 0\n",
    "    \n",
    "    for j in range(len(flattened)):\n",
    "        if i < len(flattened[j]):\n",
    "            if flattened[j][i] == 'M':\n",
    "                nb_m += 1\n",
    "            elif flattened[j][i] == 'I':\n",
    "                nb_i += 1\n",
    "            elif flattened[j][i] == 'D':\n",
    "                nb_d += 1\n",
    "            elif flattened[j][i] == 'X':\n",
    "                nb_mis += 1\n",
    "            else:\n",
    "                nb_o += 1\n",
    "                \n",
    "#     nb_total = nb_m + nb_mis + nb_i + nb_d + nb_o\n",
    "    nb_total = len(sam)\n",
    "    mis_rate.append(nb_mis/nb_total)\n",
    "    i_rate.append(nb_i/nb_total)\n",
    "    d_rate.append(nb_d/nb_total)\n",
    "    other_rate.append(nb_o/nb_total)\n",
    "    \n",
    "pos = list(range(max_len))"
   ]
  },
  {
   "cell_type": "code",
   "execution_count": 12,
   "metadata": {},
   "outputs": [
    {
     "name": "stdout",
     "output_type": "stream",
     "text": [
      "the substitution rate is 0.01141111217825586\n",
      "the insertion rate is 0.007817502241003974\n",
      "the deletion rate is 0.007485353438340377\n"
     ]
    }
   ],
   "source": [
    "print(\"the substitution rate is \" + str(sum(mis_rate) / len(mis_rate))) \n",
    "print(\"the insertion rate is \" + str(sum(i_rate) / len(i_rate))) \n",
    "print(\"the deletion rate is \" + str(sum(d_rate) / len(d_rate))) "
   ]
  },
  {
   "cell_type": "code",
   "execution_count": 13,
   "metadata": {},
   "outputs": [
    {
     "data": {
      "image/png": "[encoded data removed]",
      "text/plain": [
       "<matplotlib.figure.Figure at 0x107ca2be0>"
      ]
     },
     "metadata": {},
     "output_type": "display_data"
    }
   ],
   "source": [
    "font = 14\n",
    "plt.rcParams.update({'font.size': 14})\n",
    "\n",
    "plt.plot(pos[0:74], mis_rate[0:74], 'y^-', markerfacecolor='none', label='Substitution')\n",
    "plt.plot(pos[0:74], i_rate[0:74], 'g*-', markerfacecolor='none', label='Insertion')\n",
    "plt.plot(pos[0:74], d_rate[0:74], 'mo-', markerfacecolor='none', label='Deletion')\n",
    "plt.plot(pos[0:74], other_rate[0:74], 'cs-', markerfacecolor='none', label='Soft-clipping')\n",
    "\n",
    "plt.xlabel('position')\n",
    "plt.ylabel('error rate')\n",
    "plt.xticks(np.arange(0, 76, 25))\n",
    "# plt.legend()\n",
    "plt.legend(bbox_to_anchor=(1.05, 0), loc=3, borderaxespad=0, prop={'size': font})\n",
    "\n",
    "plt.yscale('log') # some out of the figure, because error rate is 0, and log0 is infinity\n",
    "plt.ylim((0.0001, 1))\n",
    "\n",
    "ax = plt.gca()\n",
    "# ax.yaxis.set_major_formatter(mticker.ScalarFormatter())\n",
    "ax.yaxis.set_major_formatter(mticker.FormatStrFormatter('%.4f'))\n",
    "ax.yaxis.set_minor_formatter(mticker.NullFormatter())\n",
    "\n",
    "# plt.tight_layout()\n",
    "\n",
    "plt.savefig(path + '/multi-align-error-rate.pdf', bbox_inches='tight')\n",
    "plt.show()"
   ]
  },
  {
   "cell_type": "code",
   "execution_count": 34,
   "metadata": {},
   "outputs": [
    {
     "data": {
      "image/png": "[encoded data removed]",
      "text/plain": [
       "<matplotlib.figure.Figure at 0x10b956358>"
      ]
     },
     "metadata": {},
     "output_type": "display_data"
    }
   ],
   "source": [
    "fig, (ax1, ax2) = plt.subplots(1, 2, figsize = (12, 4))\n",
    "plt.rcParams.update({'font.size': 14})\n",
    "\n",
    "ax1.plot(pos[0:74], mis_rate[0:74], 'kx-', markerfacecolor='none', label='Substitution')\n",
    "ax1.plot(pos[0:74], i_rate[0:74], 'y^-', markerfacecolor='none', label='Insertion')\n",
    "ax1.plot(pos[0:74], d_rate[0:74], 'g*-', markerfacecolor='none', label='Deletion')\n",
    "ax1.plot(pos[0:74], other_rate[0:74], 'r+-', markerfacecolor='none', label='Softclipping')\n",
    "\n",
    "ax1.set(xlabel='position', ylabel='error rate', xticks=np.arange(0, 76, 25))\n",
    "ax1.set_title('a')\n",
    "ax1.legend()\n",
    "ax1.set_yscale('log')\n",
    "ax1.set_ylim(0.000001, 1)\n",
    "ax1.yaxis.set_major_formatter(mticker.ScalarFormatter())\n",
    "ax1.yaxis.set_minor_formatter(mticker.NullFormatter())\n",
    "\n",
    "ax2.plot(pos[0:74], other_rate[0:74], 'kx-', markerfacecolor='none', label='Softclipping')\n",
    "\n",
    "ax2.set(xlabel='position', ylabel='error rate', xticks=np.arange(0, 76, 25))\n",
    "ax2.set_title('b')\n",
    "ax2.legend()\n",
    "\n",
    "# plt.savefig(path + '/mode-'+ str(mode) + '-multi-panel-error-raw.pdf')\n",
    "plt.show()"
   ]
  },
  {
   "cell_type": "code",
   "execution_count": 17,
   "metadata": {},
   "outputs": [
    {
     "data": {
      "image/png": "[encoded data removed]",
      "text/plain": [
       "<matplotlib.figure.Figure at 0x10b92b710>"
      ]
     },
     "metadata": {},
     "output_type": "display_data"
    }
   ],
   "source": [
    "## raw error rate in log scale\n",
    "plt.rcParams.update({'font.size': 14})\n",
    "\n",
    "plt.plot(pos[0:74], mis_rate[0:74], 'kx-', markerfacecolor='none', label='Substitution')\n",
    "plt.plot(pos[0:74], i_rate[0:74], 'y^-', markerfacecolor='none', label='Insertion')\n",
    "plt.plot(pos[0:74], d_rate[0:74], 'g*-', markerfacecolor='none', label='Deletion')\n",
    "\n",
    "plt.xlabel('position')\n",
    "plt.ylabel('error rate')\n",
    "plt.xticks(np.arange(0, 76, 25))\n",
    "plt.legend()\n",
    "\n",
    "plt.yscale('log') # some out of the figure, because error rate is 0, and log0 is infinity\n",
    "plt.ylim((0.0001, 0.1))\n",
    "\n",
    "# plt.savefig(path + '/mode-'+ str(mode) + '-multi-panel-error-raw.pdf')\n",
    "plt.show()\n"
   ]
  },
  {
   "cell_type": "code",
   "execution_count": 86,
   "metadata": {},
   "outputs": [
    {
     "data": {
      "image/png": "[encoded data removed]",
      "text/plain": [
       "<matplotlib.figure.Figure at 0x1c1c6b8400>"
      ]
     },
     "metadata": {},
     "output_type": "display_data"
    }
   ],
   "source": [
    "# 使用Savitzky-Golay 滤波器后得到平滑图线\n",
    "from scipy.signal import savgol_filter\n",
    "\n",
    "# window_length：窗口长度，该值需为正奇整数。例如：此处取值27，越大越平滑\n",
    "# k值：polyorder为对窗口内的数据点进行k阶多项式拟合，k的值需要小于window_length。例如：此处取值3。越小越平滑\n",
    "\n",
    "mis_rate_smooth = savgol_filter(mis_rate, 27, 3, mode= 'nearest')\n",
    "i_rate_smooth = savgol_filter(i_rate, 27, 3, mode= 'nearest')\n",
    "d_rate_smooth = savgol_filter(d_rate, 27, 3, mode= 'nearest')\n",
    "\n",
    "plt.rcParams.update({'font.size': 14})\n",
    "\n",
    "plt.plot(pos[0:74], mis_rate_smooth[0:74], 'kx-', markerfacecolor='none', label='Substitution')\n",
    "plt.plot(pos[0:74], i_rate_smooth[0:74], 'y^-', markerfacecolor='none', label='Insertion')\n",
    "plt.plot(pos[0:74], d_rate_smooth[0:74], 'g*-', markerfacecolor='none', label='Deletion')\n",
    "\n",
    "plt.xlabel('position')\n",
    "plt.ylabel('error rate')\n",
    "plt.xticks(np.arange(0, 76, 25))\n",
    "plt.legend()\n",
    "plt.yscale('log')\n",
    "           \n",
    "plt.ylim((0.0001, 1))\n",
    "\n",
    "plt.savefig(path + '/multi-align-fit-log.pdf')\n",
    "plt.show()"
   ]
  },
  {
   "cell_type": "code",
   "execution_count": 87,
   "metadata": {},
   "outputs": [
    {
     "data": {
      "image/png": "[encoded data removed]",
      "text/plain": [
       "<matplotlib.figure.Figure at 0x1c1c7ec550>"
      ]
     },
     "metadata": {},
     "output_type": "display_data"
    }
   ],
   "source": [
    "# ## raw error rate\n",
    "# plt.rcParams.update({'font.size': 14})\n",
    "\n",
    "# plt.plot(pos[0:60], mis_rate[0:60], 'kx-', markerfacecolor='none', label='Substitution')\n",
    "# plt.plot(pos[0:60], i_rate[0:60], 'y^-', markerfacecolor='none', label='Insertion')\n",
    "# plt.plot(pos[0:60], d_rate[0:60], 'g*-', markerfacecolor='none', label='Deletion')\n",
    "\n",
    "# plt.xlabel('position')\n",
    "# plt.ylabel('error rate')\n",
    "# plt.xticks(np.arange(0, 76, 25))\n",
    "# plt.legend()\n",
    "\n",
    "# # plt.savefig(path + '/mode-'+ str(mode) + '-multi-panel-error-raw.pdf')\n",
    "# plt.show()\n",
    "\n",
    "\n",
    "## raw error rate in log scale\n",
    "plt.plot(pos[0:74], mis_rate[0:74], 'kx-', markerfacecolor='none', label='Substitution')\n",
    "plt.plot(pos[0:74], i_rate[0:74], 'y^-', markerfacecolor='none', label='Insertion')\n",
    "plt.plot(pos[0:74], d_rate[0:74], 'g*-', markerfacecolor='none', label='Deletion')\n",
    "\n",
    "plt.xlabel('position')\n",
    "plt.ylabel('error rate')\n",
    "plt.xticks(np.arange(0, 76, 25))\n",
    "plt.legend()\n",
    "\n",
    "plt.yscale('log') # some out of the figure, because error rate is 0, and log0 is infinity\n",
    "# plt.ylim((0.000000000001, 1))\n",
    "\n",
    "# plt.savefig(path + '/mode-'+ str(mode) + '-multi-panel-error-log.pdf')\n",
    "plt.savefig(path + '/multi-align-log.pdf')\n",
    "plt.show()\n",
    "\n",
    "\n",
    "# ## smoothed raw error rate\n",
    "# from scipy.signal import savgol_filter\n",
    "# mis_rate_smooth = savgol_filter(mis_rate, 27, 3, mode= 'nearest')\n",
    "# i_rate_smooth = savgol_filter(i_rate, 27, 3, mode= 'nearest')\n",
    "# d_rate_smooth = savgol_filter(d_rate, 27, 3, mode= 'nearest')\n",
    "\n",
    "# plt.plot(pos[0:74], mis_rate_smooth[0:74], 'kx-', markerfacecolor='none', label='Substitution')\n",
    "# plt.plot(pos[0:74], i_rate_smooth[0:74], 'y^-', markerfacecolor='none', label='Insertion')\n",
    "# plt.plot(pos[0:74], d_rate_smooth[0:74], 'g*-', markerfacecolor='none', label='Deletion')\n",
    "\n",
    "# plt.xlabel('position')\n",
    "# plt.ylabel('error rate')\n",
    "# plt.xticks(np.arange(0, 76, 25))\n",
    "# plt.legend()\n",
    "\n",
    "## plt.savefig(path + '/mode-'+ str(mode) + '-multi-panel-error-fit.pdf')\n",
    "# plt.show()"
   ]
  },
  {
   "cell_type": "code",
   "execution_count": 39,
   "metadata": {},
   "outputs": [
    {
     "name": "stdout",
     "output_type": "stream",
     "text": [
      "0.01631716111810153\n",
      "0.011152180855500649\n",
      "0.18009549073717393\n"
     ]
    }
   ],
   "source": [
    "print(str(sum(mis_rate_smooth) / len(mis_rate_smooth)))\n",
    "print(str(sum(i_rate_smooth) / len(i_rate_smooth)))\n",
    "print(str(sum(d_rate_smooth) / len(d_rate_smooth)))"
   ]
  },
  {
   "cell_type": "code",
   "execution_count": 19,
   "metadata": {},
   "outputs": [
    {
     "name": "stdout",
     "output_type": "stream",
     "text": [
      "0.011298534314259409\n",
      "0.02309630444612032\n",
      "0.008455776246593447\n"
     ]
    }
   ],
   "source": [
    "begin = mis_rate_smooth[0:10]\n",
    "print(str(sum(begin) / len(begin)))\n",
    "\n",
    "mid = mis_rate_smooth[12:50]\n",
    "print(str(sum(mid) / len(mid)))\n",
    "\n",
    "end = mis_rate_smooth[50:74]\n",
    "print(str(sum(end) / len(end)))"
   ]
  },
  {
   "cell_type": "code",
   "execution_count": 20,
   "metadata": {},
   "outputs": [
    {
     "name": "stdout",
     "output_type": "stream",
     "text": [
      "0.006697601432331619\n",
      "0.015475323452945926\n",
      "0.006618772506194276\n"
     ]
    }
   ],
   "source": [
    "begin = i_rate_smooth[0:10]\n",
    "print(str(sum(begin) / len(begin)))\n",
    "\n",
    "mid = i_rate_smooth[12:50]\n",
    "print(str(sum(mid) / len(mid)))\n",
    "\n",
    "end = i_rate_smooth[50:74]\n",
    "print(str(sum(end) / len(end)))"
   ]
  },
  {
   "cell_type": "code",
   "execution_count": 21,
   "metadata": {},
   "outputs": [
    {
     "name": "stdout",
     "output_type": "stream",
     "text": [
      "0.16888460295487812\n",
      "0.016096133536315164\n",
      "0.43042291626702855\n"
     ]
    }
   ],
   "source": [
    "begin = d_rate_smooth[0:10]\n",
    "print(str(sum(begin) / len(begin)))\n",
    "\n",
    "mid = d_rate_smooth[12:50]\n",
    "print(str(sum(mid) / len(mid)))\n",
    "\n",
    "end = d_rate_smooth[50:74]\n",
    "print(str(sum(end) / len(end)))"
   ]
  },
  {
   "cell_type": "code",
   "execution_count": null,
   "metadata": {},
   "outputs": [],
   "source": []
  },
  {
   "cell_type": "code",
   "execution_count": null,
   "metadata": {},
   "outputs": [],
   "source": []
  },
  {
   "cell_type": "code",
   "execution_count": null,
   "metadata": {},
   "outputs": [],
   "source": []
  },
  {
   "cell_type": "code",
   "execution_count": null,
   "metadata": {},
   "outputs": [],
   "source": []
  },
  {
   "cell_type": "code",
   "execution_count": null,
   "metadata": {},
   "outputs": [],
   "source": []
  },
  {
   "cell_type": "code",
   "execution_count": null,
   "metadata": {},
   "outputs": [],
   "source": []
  },
  {
   "cell_type": "code",
   "execution_count": null,
   "metadata": {},
   "outputs": [],
   "source": []
  },
  {
   "cell_type": "code",
   "execution_count": 23,
   "metadata": {},
   "outputs": [],
   "source": [
    "# avg = 3\n",
    "# avg_mis = []\n",
    "# for i in range(76-avg+1):\n",
    "#     cur = 0\n",
    "#     for j in range(avg):\n",
    "#         cur += mis_rate[i+j] \n",
    "#     avg_mis.append(cur/avg)\n",
    "\n",
    "\n",
    "# avg_tmp = avg\n",
    "# for i in range(avg-1):\n",
    "#     avg_tmp -= 1\n",
    "#     cur = 0\n",
    "#     for j in range(avg_tmp):\n",
    "#         cur += mis_rate[len(avg_mis) + j] \n",
    "#     avg_mis.append(cur/avg_tmp)\n",
    "\n",
    "\n",
    "def avg_error_rate(avg, mis_rate):\n",
    "    avg_mis = []\n",
    "    for i in range(76 - avg + 1):\n",
    "        cur = 0\n",
    "        for j in range(avg):\n",
    "            cur += mis_rate[i + j]\n",
    "        avg_mis.append(cur / avg)\n",
    "\n",
    "    avg_tmp = avg\n",
    "    for i in range(avg - 1):\n",
    "        avg_tmp -= 1\n",
    "        cur = 0\n",
    "        for j in range(avg_tmp):\n",
    "            cur += mis_rate[len(avg_mis) + j]\n",
    "        avg_mis.append(cur / avg_tmp)\n",
    "    return avg_mis\n",
    "    "
   ]
  },
  {
   "cell_type": "code",
   "execution_count": 24,
   "metadata": {},
   "outputs": [],
   "source": [
    "# fig, (ax1, ax2) = plt.subplots(1, 2, figsize = (12, 4))\n",
    "# plt.rcParams.update({'font.size': 14})\n",
    "\n",
    "# pos = list(range(max_len))\n",
    "# ax1.plot(pos[0:74], mis_rate[0:74], 'kx-', markerfacecolor='none', label='Mismatch')\n",
    "# ax1.plot(pos[0:74], i_rate[0:74], 'y^-', markerfacecolor='none', label='Insertion')\n",
    "# ax1.plot(pos[0:74], d_rate[0:74], 'g*-', markerfacecolor='none', label='Deletion')\n",
    "\n",
    "# ax1.set(xlabel='position', ylabel='error rate', xticks=np.arange(0, 76, 25))\n",
    "# ax1.set_title('a')\n",
    "# ax1.legend()\n",
    "\n",
    "# # plt.yscale('log') \n",
    "# ax1.set_yscale('log')\n",
    "\n",
    "\n",
    "# ax2.plot(pos[0:74], other_rate[0:74], 'kx-', markerfacecolor='none', label='Clipping')\n",
    "\n",
    "# ax2.set(xlabel='position', ylabel='error rate', xticks=np.arange(0, 76, 25))\n",
    "# ax2.set_title('b')\n",
    "# ax2.legend()\n",
    "\n",
    "# plt.savefig(path + '/mode-'+ str(mode) + '-multi-panel-error-raw.pdf')\n",
    "# plt.show()"
   ]
  },
  {
   "cell_type": "code",
   "execution_count": 25,
   "metadata": {},
   "outputs": [],
   "source": [
    "# mis_rate_log = np.log10(mis_rate)\n",
    "# i_rate_log = np.log10(i_rate)\n",
    "# d_rate_log = np.log10(d_rate)\n",
    "\n",
    "# fig, (ax1, ax2) = plt.subplots(1, 2, figsize = (12, 4))\n",
    "# plt.rcParams.update({'font.size': 14})\n",
    "\n",
    "# pos = list(range(max_len))\n",
    "# ax1.plot(pos[0:74], mis_rate_log[0:74], 'kx-', markerfacecolor='none', label='Mismatch')\n",
    "# ax1.plot(pos[0:74], i_rate_log[0:74], 'y^-', markerfacecolor='none', label='Insertion')\n",
    "# ax1.plot(pos[0:74], d_rate_log[0:74], 'g*-', markerfacecolor='none', label='Deletion')\n",
    "\n",
    "# ax1.set(xlabel='position', ylabel='error rate', xticks=np.arange(0, 76, 25))\n",
    "# ax1.set_title('a')\n",
    "# ax1.legend()\n",
    "\n",
    "\n",
    "\n",
    "# ax2.plot(pos[0:74], other_rate[0:74], 'kx-', markerfacecolor='none', label='Clipping')\n",
    "\n",
    "# ax2.set(xlabel='position', ylabel='error rate', xticks=np.arange(0, 76, 25))\n",
    "# ax2.set_title('b')\n",
    "# ax2.legend()\n",
    "\n",
    "# plt.savefig(path + '/multi-panel-error-log.pdf')\n",
    "# plt.show()"
   ]
  },
  {
   "cell_type": "code",
   "execution_count": 26,
   "metadata": {},
   "outputs": [],
   "source": [
    "# # 使用Savitzky-Golay 滤波器后得到平滑图线\n",
    "# from scipy.signal import savgol_filter\n",
    "\n",
    "# # window_length：窗口长度，该值需为正奇整数。例如：此处取值27，越大越平滑\n",
    "# # k值：polyorder为对窗口内的数据点进行k阶多项式拟合，k的值需要小于window_length。例如：此处取值3。越小越平滑\n",
    "\n",
    "# mis_rate_smooth = savgol_filter(mis_rate, 27, 3, mode= 'nearest')\n",
    "# i_rate_smooth = savgol_filter(i_rate, 27, 3, mode= 'nearest')\n",
    "# d_rate_smooth = savgol_filter(d_rate, 27, 3, mode= 'nearest')\n",
    "\n",
    "# fig, (ax1, ax2) = plt.subplots(1, 2, figsize = (12, 4))\n",
    "# plt.rcParams.update({'font.size': 14})\n",
    "\n",
    "# ax1.plot(pos[0:74], mis_rate_smooth[0:74], 'kx-', markerfacecolor='none', label='Mismatch')\n",
    "# ax1.plot(pos[0:74], i_rate_smooth[0:74], 'y^-', markerfacecolor='none', label='Insertion')\n",
    "# ax1.plot(pos[0:74], d_rate_smooth[0:74], 'g*-', markerfacecolor='none', label='Deletion')\n",
    "\n",
    "# ax1.set(xlabel='position', ylabel='error rate', xticks=np.arange(0, 76, 25))\n",
    "# ax1.set_title('a')\n",
    "# ax1.legend()\n",
    "\n",
    "\n",
    "# other_rate_smooth = savgol_filter(other_rate, 27, 3, mode= 'nearest')\n",
    "# ax2.plot(pos[0:75], other_rate_smooth[0:75], 'kx-', markerfacecolor='none', label='Clipping')\n",
    "\n",
    "# ax2.set(xlabel='position', ylabel='error rate', xticks=np.arange(0, 76, 25))\n",
    "# ax2.set_title('b')\n",
    "# ax2.legend()\n",
    "\n",
    "# plt.savefig(path + '/multi-panel-error-fit.pdf')\n",
    "# plt.show()"
   ]
  },
  {
   "cell_type": "code",
   "execution_count": null,
   "metadata": {},
   "outputs": [],
   "source": []
  },
  {
   "cell_type": "code",
   "execution_count": 27,
   "metadata": {},
   "outputs": [],
   "source": [
    "# avg = 13\n",
    "# avg_mis_rate = avg_error_rate(avg, mis_rate)\n",
    "# avg_i_rate = avg_error_rate(avg, i_rate)\n",
    "# avg_d_rate = avg_error_rate(avg, d_rate)\n",
    "# avg_o_rate = avg_error_rate(avg, other_rate)"
   ]
  },
  {
   "cell_type": "code",
   "execution_count": 28,
   "metadata": {},
   "outputs": [],
   "source": [
    "# fig, (ax1, ax2) = plt.subplots(1, 2, figsize = (12, 4))\n",
    "# plt.rcParams.update({'font.size': 14})\n",
    "\n",
    "# pos = list(range(max_len))\n",
    "# ax1.plot(pos[0:74], avg_mis_rate[0:74], 'kx-', markerfacecolor='none', label='Mismatch')\n",
    "# ax1.plot(pos[0:74], avg_i_rate[0:74], 'y^-', markerfacecolor='none', label='Insertion')\n",
    "# ax1.plot(pos[0:74], avg_d_rate[0:74], 'g*-', markerfacecolor='none', label='Deletion')\n",
    "\n",
    "# ax1.set(xlabel='position', ylabel='error rate', xticks=np.arange(0, 76, 25))\n",
    "# ax1.set_title('a')\n",
    "# ax1.legend()\n",
    "\n",
    "\n",
    "\n",
    "# ax2.plot(pos[0:74], avg_o_rate[0:74], 'kx-', markerfacecolor='none', label='Clipping')\n",
    "\n",
    "# ax2.set(xlabel='position', ylabel='error rate', xticks=np.arange(0, 76, 25))\n",
    "# ax2.set_title('b')\n",
    "# ax2.legend()\n",
    "\n",
    "# plt.savefig(path + '/multi-panel-error-avg.pdf')\n",
    "# plt.show()"
   ]
  },
  {
   "cell_type": "code",
   "execution_count": null,
   "metadata": {},
   "outputs": [],
   "source": []
  },
  {
   "cell_type": "code",
   "execution_count": 29,
   "metadata": {},
   "outputs": [],
   "source": [
    "# pos = list(range(max_len))\n",
    "\n",
    "# plt.rcParams.update({'font.size': 14})\n",
    "# plt.plot(pos[0:74], mis_rate[0:74], 'kx-', markerfacecolor='none', label='Mismatch')\n",
    "# plt.plot(pos[0:74], i_rate[0:74], 'y^-', markerfacecolor='none', label='Insertion')\n",
    "# plt.plot(pos[0:74], d_rate[0:74], 'g*-', markerfacecolor='none', label='Deletion')\n",
    "\n",
    "# plt.xlabel('position')\n",
    "# plt.ylabel('error rate')\n",
    "# plt.xticks(np.arange(0, 76, 25))\n",
    "# plt.legend()\n",
    "# plt.savefig(path + '/new-raw-error-per-pos.pdf')\n",
    "# plt.show()"
   ]
  },
  {
   "cell_type": "code",
   "execution_count": 30,
   "metadata": {},
   "outputs": [],
   "source": [
    "# plt.clf()\n",
    "# plt.plot(pos[0:74], other_rate[0:74], 'kx-', markerfacecolor='none', label='Clipping')\n",
    "\n",
    "# plt.legend()\n",
    "# plt.xlabel('position')\n",
    "# plt.ylabel('error rate')\n",
    "# plt.xticks(np.arange(0, 76, 25))\n",
    "# plt.savefig(path + '/new-raw-error-other-per-pos.pdf')"
   ]
  },
  {
   "cell_type": "code",
   "execution_count": 31,
   "metadata": {},
   "outputs": [],
   "source": [
    "# # 使用Savitzky-Golay 滤波器后得到平滑图线\n",
    "# from scipy.signal import savgol_filter\n",
    "\n",
    "# mis_rate_smooth = savgol_filter(mis_rate, 27, 3, mode= 'nearest')\n",
    "# i_rate_smooth = savgol_filter(i_rate, 27, 3, mode= 'nearest')\n",
    "# d_rate_smooth = savgol_filter(d_rate, 27, 3, mode= 'nearest')\n",
    "\n",
    "# plt.rcParams.update({'font.size': 14})\n",
    "# plt.plot(pos[0:75], mis_rate_smooth[0:75], 'kx-', markerfacecolor='none', label='Mismatch')\n",
    "# plt.plot(pos[0:75], i_rate_smooth[0:75], 'y^-', markerfacecolor='none', label='Insertion')\n",
    "# plt.plot(pos[0:75], d_rate_smooth[0:75], 'g*-', markerfacecolor='none', label='Deletion')\n",
    "\n",
    "# plt.xlabel('position')\n",
    "# plt.ylabel('error rate')\n",
    "# plt.xticks(np.arange(0, 76, 25))\n",
    "# plt.legend()\n",
    "# plt.savefig(path + '/new-smooth-error-per-pos.pdf')\n",
    "# plt.show()"
   ]
  },
  {
   "cell_type": "code",
   "execution_count": 32,
   "metadata": {},
   "outputs": [],
   "source": [
    "# plt.clf()\n",
    "\n",
    "# other_rate_smooth = savgol_filter(other_rate, 27, 3, mode= 'nearest')\n",
    "# plt.plot(pos[0:75], other_rate_smooth[0:75], 'kx-', markerfacecolor='none', label='Clipping')\n",
    "\n",
    "# plt.legend()\n",
    "# plt.xlabel('position')\n",
    "# plt.ylabel('error rate')\n",
    "# plt.xticks(np.arange(0, 76, 25))\n",
    "# plt.yticks(np.arange(0, 0.9, 0.2))\n",
    "# plt.savefig(path + '/new-smooth-error-other-per-pos.pdf')"
   ]
  },
  {
   "cell_type": "code",
   "execution_count": null,
   "metadata": {},
   "outputs": [],
   "source": []
  },
  {
   "cell_type": "code",
   "execution_count": 33,
   "metadata": {},
   "outputs": [
    {
     "data": {
      "text/plain": [
       "'ATGTAAACGGGTCTAGTCATAGCTCTACAACGCAGATTACAACCTCAGTGCTAATTTTCCACGTGACCCATGCT'"
      ]
     },
     "execution_count": 33,
     "metadata": {},
     "output_type": "execute_result"
    }
   ],
   "source": [
    "# _ref_id = 27\n",
    "# _pos = 2\n",
    "# _cigar = \"2S60M\"\n",
    "# _read_seq = 'ACACAGGACTACGGGGGACCGGAAACTACAACGCAGATTACAACCTCAGTTCTTGTCGTGCA'\n",
    "# ref_pos = _pos - 1\n",
    "# read_pos = 0\n",
    "\n",
    "_ref_id = 249\n",
    "_pos = 1\n",
    "_cigar = \"8S7M1D9M1D44M\"\n",
    "_read_seq = 'GTATTGCTATGTAAATGGTCTAGTGTAGCTCTACAACACAGATTAC'\n",
    "ref_pos = _pos - 1\n",
    "read_pos = 0\n",
    "\n",
    "_ref = ref[_ref_id]\n",
    "_ref\n",
    "\n",
    "     \n",
    "# read:GTATTGCTATGTAAA TGGTCTAGT GTAGCTCTACAACACAGATTACAACCTCAGTGCTAATTTTCCAC\n",
    "# ref:         ATGTAAACGGGTCTAGTCATAGCTCTACAACGCAGATTACAACCTCAGTGCTAATTTTCCACGTGACCCATGCT"
   ]
  },
  {
   "cell_type": "code",
   "execution_count": 34,
   "metadata": {},
   "outputs": [
    {
     "data": {
      "text/plain": [
       "'ATCTTACGGGAAATACGACATGTCCTACAACGCAGATTACAACCTCAGTTCTTTTGATTCGGTCATCTCTTAAG'"
      ]
     },
     "execution_count": 34,
     "metadata": {},
     "output_type": "execute_result"
    }
   ],
   "source": [
    "_ref_id = 106\n",
    "_pos = 3\n",
    "_cigar = \"16M2I42M1S\"\n",
    "_read_seq = 'CTTGCGGGAAATACGACGCATGTCCTACAACGCAGATTACAACCTCAGTTCTTTTGATTCA'\n",
    "ref_pos = _pos - 1\n",
    "read_pos = 0\n",
    "\n",
    "_ref = ref[_ref_id]\n",
    "_ref\n",
    "\n",
    "\n",
    "# read:  CTTGCGGGAAATACGACGCATGTCCTACAACGCAGATTACAACCTCAGTTCTTTTGATTC[A]\n",
    "# ref: ATCTTACGGGAAATACGA  CATGTCCTACAACGCAGATTACAACCTCAGTTCTTTTGATTCGGTCATCTCTTAAG"
   ]
  },
  {
   "cell_type": "code",
   "execution_count": 35,
   "metadata": {},
   "outputs": [
    {
     "data": {
      "text/plain": [
       "'ATCTTACGGGAAATACGACATGTCCTACAACGCAGATTACAACCTCAGTTCTTTTGATTCGGTCATCTCTTAAG'"
      ]
     },
     "execution_count": 35,
     "metadata": {},
     "output_type": "execute_result"
    }
   ],
   "source": [
    "_ref_id = 106\n",
    "_pos = 3\n",
    "_cigar = \"16M2I42M1S\"\n",
    "_read_seq = 'CTTGCGGGAAATACGACGCATGTCCTACAACGCAGATTACAACCTCAGTTCTTTTGATTCA'\n",
    "ref_pos = _pos - 1\n",
    "read_pos = 0\n",
    "\n",
    "_ref = ref[_ref_id]\n",
    "_ref\n",
    "\n",
    "\n",
    "# read:  CTTGCGGGAAATACGACGCATGTCCTACAACGCAGATTACAACCTCAGTTCTTTTGATTC[A]\n",
    "# ref: ATCTTACGGGAAATACGA  CATGTCCTACAACGCAGATTACAACCTCAGTTCTTTTGATTCGGTCATCTCTTAAG"
   ]
  },
  {
   "cell_type": "code",
   "execution_count": 36,
   "metadata": {},
   "outputs": [
    {
     "data": {
      "text/plain": [
       "'CACGACAGGGGTAAACATTTCACTCTACAACGCAGATTACAACCTCAGTTTCCGAATGTGGCCCGTAGTTTGTG'"
      ]
     },
     "execution_count": 36,
     "metadata": {},
     "output_type": "execute_result"
    }
   ],
   "source": [
    "_ref_id = 48\n",
    "_pos = 2\n",
    "_cigar = \"28S59M99S\"\n",
    "_read_seq = 'GTTGTACTTCGTTCAGTTACGTATTGCTACGACGGGGGTAAACATTTCACTCTACAACGCAGATTACAACCTCAGTTTCCGAATGTGAAATCGGTATACTTCGTTCAGTTAATTGTGCCGTTCAGTTACAATAATCTTCGGCATCCATGGTAATTGCACGGTACTACAACAATTCATACCAGATAA'\n",
    "ref_pos = _pos - 1\n",
    "read_pos = 0\n",
    "\n",
    "_ref = ref[_ref_id]\n",
    "_ref\n",
    "\n",
    "\n",
    "# read: GTTGTACTTCGTTCAGTTACGTATTGC\n",
    "#      TACGACGGGGGTAAACATTTCACTCTACAACGCAGATTACAACCTCAGTTTCCGAATGTG[AAATCGGTATACTT]CGTTCAGTTAATTGTGCCGTTCAGTTACAATAATCTTCGGCATCCATGGTAATTGCACGGTACTACAACAATTCATACCAGATAA\n",
    "# ref: CACGACAGGGGTAAACATTTCACTCTACAACGCAGATTACAACCTCAGTTTCCGAATGTG[GCCCGTAGTTTGTG]"
   ]
  },
  {
   "cell_type": "code",
   "execution_count": null,
   "metadata": {},
   "outputs": [],
   "source": []
  }
 ],
 "metadata": {
  "kernelspec": {
   "display_name": "Python 3",
   "language": "python",
   "name": "python3"
  },
  "language_info": {
   "codemirror_mode": {
    "name": "ipython",
    "version": 3
   },
   "file_extension": ".py",
   "mimetype": "text/x-python",
   "name": "python",
   "nbconvert_exporter": "python",
   "pygments_lexer": "ipython3",
   "version": "3.6.4"
  }
 },
 "nbformat": 4,
 "nbformat_minor": 2
}
